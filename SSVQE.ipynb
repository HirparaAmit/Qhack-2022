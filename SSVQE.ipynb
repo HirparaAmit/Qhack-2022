{
  "nbformat": 4,
  "nbformat_minor": 0,
  "metadata": {
    "colab": {
      "name": "Parmanu.ipynb",
      "provenance": [],
      "collapsed_sections": []
    },
    "kernelspec": {
      "name": "python3",
      "display_name": "Python 3"
    },
    "language_info": {
      "name": "python"
    }
  },
  "cells": [
    {
      "cell_type": "markdown",
      "source": [
        "Make sure to install below requirements:\n",
        "\n",
        "```\n",
        "!pip install pennylane\n",
        "```\n",
        "```\n",
        "!pip inatsll pennnylane-qchem\n",
        "```\n",
        "After that continue with inporting the required libraries as shown below:"
      ],
      "metadata": {
        "id": "-iVYwRS0WcIc"
      }
    },
    {
      "cell_type": "code",
      "source": [
        "import pennylane as qml\n",
        "from pennylane import numpy as np\n",
        "import matplotlib.pyplot as plt"
      ],
      "metadata": {
        "id": "kjNwVJerAUSk"
      },
      "execution_count": 2,
      "outputs": []
    },
    {
      "cell_type": "markdown",
      "source": [
        "**Weighted SSVQE for Kth Excited state:**<br>\n",
        "This algorithm provides the energy of Kth Excited state for a given Hamiltonian.\n",
        "\n",
        "Below is the implementation of this algorithm in form of a function that takes input as the Hamiltonian, ansatz, params, k etc. and returns the value for energy in Kth Excited state."
      ],
      "metadata": {
        "id": "xJ1CSAHPXLMH"
      }
    },
    {
      "cell_type": "code",
      "source": [
        "def WEIGHTED_SSVQE(hamiltonian, ansatz, params, opt_name='Adam', stepsize=0.1, iterations=100, k=0, device_name='default.qubit'):\n",
        "    \"\"\"Calculates the kth excited state energy for of a given Hamiltonian.\n",
        "    \n",
        "    Args:\n",
        "        => hamiltonian (qml.Hamiltonian): Hamiltonian for which the Kth excited state energy is to be found.\n",
        "        => ansatz (function(params, wires, *args)): The circuit ansatz for which the cost function will be optimized.\n",
        "           ansatz must have atleast two arguments 'params' and 'wires'. \n",
        "           There is no need to prepare orthogonal basis stats, they will be prepared by the algorithm.\n",
        "        => params (any): Parameters that can be passed to the provided ansatz.\n",
        "        => opt_name(string): Name of the optimizer to use for optimization.\n",
        "           Currently the function supports 'Adam' 'Adagrad' 'GradientDescent'.\n",
        "        => stepsize (float): Stepsize for the optimizer.\n",
        "        => iterations (int): No. of Iterations for the optimization.\n",
        "        => k (int): K for which the Kth excited state energy will be calculated. K <= 2^qubits.\n",
        "        => device_name(string): device name for creating device such that qml.device(device_name, wires=wires).\n",
        "\n",
        "    Returns:\n",
        "        => (Energy, Energies): The function returns a tuple of Energy of Kth excited state and list of energies at each iteration for plotting the graph.\n",
        "    \"\"\"\n",
        "\n",
        "    # Calculate number of qubits required for the given Hamiltonian and create the device.\n",
        "    qubits = len(hamiltonian.wires)\n",
        "    device = qml.device(device_name, wires=qubits)\n",
        "\n",
        "    #Define the weights for the cost function.\n",
        "    weights = np.random.random()\n",
        "\n",
        "    # State Preparation for orthogonal states.\n",
        "    def state_prep(state_value):\n",
        "      for index, value in enumerate(np.binary_repr(state_value, qubits)):\n",
        "        if value == '1':\n",
        "          qml.PauliX(index)\n",
        "    \n",
        "    # An intermediate Ansatz for total circuit.\n",
        "    def intermediate_ansatz(params, wires, state_value):\n",
        "      state_prep(state_value)\n",
        "      ansatz(params, wires)\n",
        "\n",
        "    # Cost of each orthogonal state.\n",
        "    state_cost = qml.ExpvalCost(\n",
        "        intermediate_ansatz, \n",
        "        hamiltonian, \n",
        "        device)\n",
        "    \n",
        "    # Total cost of the system.\n",
        "    def total_cost(params):\n",
        "      cost = []\n",
        "      for index in range(k+1):\n",
        "        if index == k:\n",
        "          cost.append(weights * state_cost(params, state_value=index))\n",
        "        else:\n",
        "          cost.append(state_cost(params, state_value=index))\n",
        "      return sum(cost)\n",
        "\n",
        "    # Optimizers options.\n",
        "    optimizers = {\n",
        "        'Adam': qml.AdamOptimizer(stepsize=stepsize),\n",
        "        'Adagrad': qml.AdagradOptimizer(stepsize=stepsize),\n",
        "        'GradientDescent': qml.GradientDescentOptimizer(stepsize=stepsize)\n",
        "    }\n",
        "\n",
        "    # Define the Optimizer and initial parameters.\n",
        "    optimizer = optimizers[opt_name]\n",
        "    energies = []\n",
        "    \n",
        "    # Optimization loop.\n",
        "    for _ in range(iterations):\n",
        "      params, Energy = optimizer.step_and_cost(total_cost, params)\n",
        "      energy = state_cost(params, state_value=k)\n",
        "      energies.append(energy)\n",
        "    return energies[-1], energies"
      ],
      "metadata": {
        "id": "jJv4tRWXAemq"
      },
      "execution_count": 16,
      "outputs": []
    },
    {
      "cell_type": "markdown",
      "source": [
        "***Sample Test:***"
      ],
      "metadata": {
        "id": "k4BG0qu9YS88"
      }
    },
    {
      "cell_type": "code",
      "source": [
        "#Sample Ansatz:\n",
        "def ansatz(params, wires):\n",
        "    qml.templates.StronglyEntanglingLayers(params, wires=wires)\n",
        "\n",
        "# Molecule Parameters:\n",
        "symbols = [\"H\", \"H\"]\n",
        "coordinates = np.array([0.0, 0.0, -0.6614, 0.0, 0.0, 0.6614])\n",
        "\n",
        "# Hamiltonian:\n",
        "hamiltonian, qubits =  qml.qchem.molecular_hamiltonian(\n",
        "        symbols,\n",
        "        coordinates,\n",
        "        active_electrons=2,\n",
        "        active_orbitals=2\n",
        ")\n",
        "\n",
        "# Params:\n",
        "params = np.random.uniform(low=0, high=2*np.pi, size=(8, qubits, 3))"
      ],
      "metadata": {
        "id": "3jDh799f_rbq"
      },
      "execution_count": null,
      "outputs": []
    },
    {
      "cell_type": "markdown",
      "source": [
        "> **Note:** Code given Below may take some time to run."
      ],
      "metadata": {
        "id": "IlGi_fxxYhpf"
      }
    },
    {
      "cell_type": "code",
      "source": [
        "# Calculations:\n",
        "Energy_G, Energies_G = WEIGHTED_SSVQE(hamiltonian, ansatz, params, stepsize=0.05, k=0)\n",
        "Energy_1, Energies_1 = WEIGHTED_SSVQE(hamiltonian, ansatz, params, stepsize=0.05, k=1)\n",
        "\n",
        "# Output:\n",
        "print('Energy of Ground state for the given hamiltonian is:', Energy_G)\n",
        "print('Energy of First Excited state for the given hamiltonian is:', Energy_1)\n",
        "\n",
        "# Graph plot:\n",
        "Iterations = [*range(0, 100)]\n",
        "plt.figure(figsize=(10, 8))\n",
        "\n",
        "plt.plot(Iterations, Energies_G, label='Ground State')\n",
        "plt.plot(Iterations, Energies_1, label='First Excited State')\n",
        "\n",
        "plt.xlabel('Iterations')\n",
        "plt.ylabel('Energies')\n",
        "plt.legend()\n",
        "plt.show()"
      ],
      "metadata": {
        "colab": {
          "base_uri": "https://localhost:8080/",
          "height": 532
        },
        "id": "2MJIqQOix_gO",
        "outputId": "97f043a9-c5cd-4ff8-e4f3-68bf2291e7c9"
      },
      "execution_count": 17,
      "outputs": [
        {
          "output_type": "stream",
          "name": "stdout",
          "text": [
            "Energy of Ground state for the given hamiltonian is: -1.1361800803885473\n",
            "Energy of First Excited state for the given hamiltonian is: -0.5118435711552768\n"
          ]
        },
        {
          "output_type": "display_data",
          "data": {
            "image/png": "[encoded data removed]",
            "text/plain": [
              "<Figure size 720x576 with 1 Axes>"
            ]
          },
          "metadata": {
            "needs_background": "light"
          }
        }
      ]
    },
    {
      "cell_type": "markdown",
      "source": [
        "**Weighted SSVQE for all states up to Kth Excited state:**<br>\n",
        "This algorithm provides the energies of all the states upto Kth Excited state for a given Hamiltonian.\n",
        "\n",
        "Below is the implementation of this algorithm in form of a function that takes input as the Hamiltonian, ansatz, params, k etc. and returns the value for energies upto Kth Excited state."
      ],
      "metadata": {
        "id": "JxktH269Zm66"
      }
    },
    {
      "cell_type": "code",
      "source": [
        "def WEIGHTED_SSVQE_ALL(hamiltonian, ansatz, params, opt_name='Adam', stepsize=0.1, iterations=100, k=[0], device_name='default.qubit'):\n",
        "    \"\"\"Calculates the energies upto Kth excited state for of a given Hamiltonian.\n",
        "    \n",
        "    Args:\n",
        "        => hamiltonian (qml.Hamiltonian): Hamiltonian for which the Kth excited state energy is to be found.\n",
        "        => ansatz (function(params, wires, *args)): The circuit ansatz for which the cost function will be optimized.\n",
        "           ansatz must have atleast two arguments 'params' and 'wires'. \n",
        "           There is no need to prepare orthogonal basis stats, they will be prepared by the algorithm.\n",
        "        => params (any): Parameters that can be passed to the provided ansatz.\n",
        "        => opt_name(string): Name of the optimizer to use for optimization.\n",
        "           Currently the function supports 'Adam' 'Adagrad' 'GradientDescent'.\n",
        "        => stepsize (float): Stepsize for the optimizer.\n",
        "        => iterations (int): No. of Iterations for the optimization.\n",
        "        => k (int): K till which the excited state energy will be calculated. K <= 2^qubits.\n",
        "        => device_name(string): device name for creating device such that qml.device(device_name, wires=wires).\n",
        "\n",
        "    Returns:\n",
        "        => [[Energy, Energies]]: The function returns a List of List of Energy of Kth excited state and list of energies at each iteration for plotting the graph.\n",
        "    \"\"\"\n",
        "\n",
        "    # Calculate number of qubits required for the given Hamiltonian and create the device.\n",
        "    qubits = len(hamiltonian.wires)\n",
        "    device = qml.device(device_name, wires=qubits)\n",
        "\n",
        "    #Define the weights for the cost function.\n",
        "    weights = np.arange(qubits, 0, -1)\n",
        "\n",
        "    # State Preparation for orthogonal states.\n",
        "    def state_prep(state_value):\n",
        "      for index, value in enumerate(np.binary_repr(state_value, qubits)):\n",
        "        if value == '1':\n",
        "          qml.PauliX(index)\n",
        "    \n",
        "    # An intermediate Ansatz for total circuit.\n",
        "    def intermediate_ansatz(params, wires, state_value):\n",
        "      state_prep(state_value)\n",
        "      ansatz(params, wires)\n",
        "\n",
        "    # Cost of each orthogonal state.\n",
        "    state_cost = qml.ExpvalCost(\n",
        "        intermediate_ansatz, \n",
        "        hamiltonian, \n",
        "        device)\n",
        "    \n",
        "    # Total cost of the system.\n",
        "    def total_cost(params):\n",
        "      cost = []\n",
        "      for index in range(k+1):\n",
        "          cost.append(weights[index] * state_cost(params, state_value=index))\n",
        "      return sum(cost)\n",
        "\n",
        "    # Optimizers options.\n",
        "    optimizers = {\n",
        "        'Adam': qml.AdamOptimizer(stepsize=stepsize),\n",
        "        'Adagrad': qml.AdagradOptimizer(stepsize=stepsize),\n",
        "        'GradientDescent': qml.GradientDescentOptimizer(stepsize=stepsize)\n",
        "    }\n",
        "\n",
        "    # Define the Optimizer and initial parameters.\n",
        "    optimizer = optimizers[opt_name]\n",
        "    energies = np.zeros((k+1,iterations))\n",
        "    \n",
        "    # Optimization loop.\n",
        "    for itr in range(iterations):\n",
        "      params, Energy = optimizer.step_and_cost(total_cost, params)\n",
        "      for index in range(k+1):\n",
        "        energy = state_cost(params, state_value=index)\n",
        "        energies[index][itr] = energy\n",
        "\n",
        "    # Return Tuples\n",
        "    Energies = []\n",
        "    for energy in energies:\n",
        "        Energies.append([energy[-1], energy])\n",
        "    return Energies"
      ],
      "metadata": {
        "id": "zXNCC4zs2TVQ"
      },
      "execution_count": 35,
      "outputs": []
    },
    {
      "cell_type": "markdown",
      "source": [
        "> **Note:** Code given Below may take some time to run."
      ],
      "metadata": {
        "id": "FBvSvpLOZCoZ"
      }
    },
    {
      "cell_type": "code",
      "source": [
        "# Calculations:\n",
        "Energies = WEIGHTED_SSVQE_ALL(hamiltonian, ansatz, params, stepsize=0.05, k=1)\n",
        "\n",
        "# Output:\n",
        "print('Energy of Ground state for the given hamiltonian is:', Energies[0][0])\n",
        "print('Energy of First Excited state for the given hamiltonian is:', Energies[1][0])\n",
        "\n",
        "# Graph plot:\n",
        "Iterations = [*range(0, 100)]\n",
        "plt.figure(figsize=(10, 8))\n",
        "\n",
        "plt.plot(Iterations, Energies[0][1], label='Ground State')\n",
        "plt.plot(Iterations, Energies[1][1], label='First Excited State')\n",
        "\n",
        "plt.xlabel('Iterations')\n",
        "plt.ylabel('Energies')\n",
        "plt.legend()\n",
        "plt.show()"
      ],
      "metadata": {
        "colab": {
          "base_uri": "https://localhost:8080/",
          "height": 532
        },
        "id": "0dJstCxe_7Fg",
        "outputId": "2a15ace0-eb1d-4bd5-b8c8-cc526278ecf8"
      },
      "execution_count": 36,
      "outputs": [
        {
          "output_type": "stream",
          "name": "stdout",
          "text": [
            "Energy of Ground state for the given hamiltonian is: -1.1360727226958336\n",
            "Energy of First Excited state for the given hamiltonian is: -0.517024444586761\n"
          ]
        },
        {
          "output_type": "display_data",
          "data": {
            "image/png": "[encoded data removed]",
            "text/plain": [
              "<Figure size 720x576 with 1 Axes>"
            ]
          },
          "metadata": {
            "needs_background": "light"
          }
        }
      ]
    },
    {
      "cell_type": "markdown",
      "source": [
        "#### From both the graphs, we can easily conclude that both the algorithms are converging at an almost same value of energy of Kth Excited states for the H2 Hamiltonian.\n",
        "\n"
      ],
      "metadata": {
        "id": "fm07DoHCZEq6"
      }
    }
  ]
}